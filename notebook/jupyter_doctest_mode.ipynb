{
 "cells": [
  {
   "cell_type": "code",
   "execution_count": 1,
   "metadata": {},
   "outputs": [
    {
     "name": "stderr",
     "output_type": "stream",
     "text": [
      "/Users/prasert/miniconda3/lib/python3.7/site-packages/sklearn/linear_model/logistic.py:758: ConvergenceWarning: lbfgs failed to converge. Increase the number of iterations.\n",
      "  \"of iterations.\", ConvergenceWarning)\n"
     ]
    },
    {
     "data": {
      "text/plain": [
       "0.9733333333333334"
      ]
     },
     "execution_count": 1,
     "metadata": {},
     "output_type": "execute_result"
    }
   ],
   "source": [
    ">>> from sklearn.datasets import load_iris\n",
    ">>> from sklearn.linear_model import LogisticRegression\n",
    ">>> X, y = load_iris(return_X_y=True)\n",
    ">>> clf = LogisticRegression(random_state=0, solver='lbfgs',\n",
    "...                          multi_class='multinomial').fit(X, y)\n",
    ">>> clf.predict(X[:2, :])\n",
    ">>> clf.predict_proba(X[:2, :]) \n",
    ">>> clf.score(X, y)"
   ]
  },
  {
   "cell_type": "code",
   "execution_count": 2,
   "metadata": {},
   "outputs": [
    {
     "name": "stdout",
     "output_type": "stream",
     "text": [
      "from sklearn.datasets import load_iris\n",
      "from sklearn.linear_model import LogisticRegression\n",
      "X, y = load_iris(return_X_y=True)\n",
      "clf = LogisticRegression(random_state=0, solver='lbfgs',\n",
      "                         multi_class='multinomial').fit(X, y)\n",
      "clf.predict(X[:2, :])\n",
      "clf.predict_proba(X[:2, :]) \n",
      "clf.score(X, y)\n",
      "get_ipython().run_line_magic('history', '-t')\n"
     ]
    }
   ],
   "source": [
    "%history -t"
   ]
  },
  {
   "cell_type": "code",
   "execution_count": 3,
   "metadata": {},
   "outputs": [
    {
     "name": "stderr",
     "output_type": "stream",
     "text": [
      "/Users/prasert/miniconda3/lib/python3.7/site-packages/sklearn/linear_model/logistic.py:758: ConvergenceWarning: lbfgs failed to converge. Increase the number of iterations.\n",
      "  \"of iterations.\", ConvergenceWarning)\n"
     ]
    },
    {
     "data": {
      "text/plain": [
       "0.9733333333333334"
      ]
     },
     "execution_count": 3,
     "metadata": {},
     "output_type": "execute_result"
    }
   ],
   "source": [
    "from sklearn.datasets import load_iris\n",
    "from sklearn.linear_model import LogisticRegression\n",
    "X, y = load_iris(return_X_y=True)\n",
    "clf = LogisticRegression(random_state=0, solver='lbfgs',\n",
    "                         multi_class='multinomial').fit(X, y)\n",
    "clf.predict(X[:2, :])\n",
    "clf.predict_proba(X[:2, :]) \n",
    "clf.score(X, y)"
   ]
  },
  {
   "cell_type": "code",
   "execution_count": 4,
   "metadata": {},
   "outputs": [
    {
     "data": {
      "text/plain": [
       "1.0"
      ]
     },
     "execution_count": 4,
     "metadata": {},
     "output_type": "execute_result"
    }
   ],
   "source": [
    ">>> import numpy as np\n",
    ">>> from sklearn.linear_model import LinearRegression\n",
    ">>> X = np.array([[1, 1], [1, 2], [2, 2], [2, 3]])\n",
    ">>> # y = 1 * x_0 + 2 * x_1 + 3\n",
    ">>> y = np.dot(X, np.array([1, 2])) + 3\n",
    ">>> reg = LinearRegression().fit(X, y)\n",
    ">>> reg.score(X, y)"
   ]
  },
  {
   "cell_type": "code",
   "execution_count": 5,
   "metadata": {},
   "outputs": [
    {
     "name": "stdout",
     "output_type": "stream",
     "text": [
      "from sklearn.datasets import load_iris\n",
      "from sklearn.linear_model import LogisticRegression\n",
      "X, y = load_iris(return_X_y=True)\n",
      "clf = LogisticRegression(random_state=0, solver='lbfgs',\n",
      "                         multi_class='multinomial').fit(X, y)\n",
      "clf.predict(X[:2, :])\n",
      "clf.predict_proba(X[:2, :]) \n",
      "clf.score(X, y)\n",
      "get_ipython().run_line_magic('history', '-t')\n",
      "from sklearn.datasets import load_iris\n",
      "from sklearn.linear_model import LogisticRegression\n",
      "X, y = load_iris(return_X_y=True)\n",
      "clf = LogisticRegression(random_state=0, solver='lbfgs',\n",
      "                         multi_class='multinomial').fit(X, y)\n",
      "clf.predict(X[:2, :])\n",
      "clf.predict_proba(X[:2, :]) \n",
      "clf.score(X, y)\n",
      "import numpy as np\n",
      "from sklearn.linear_model import LinearRegression\n",
      "X = np.array([[1, 1], [1, 2], [2, 2], [2, 3]])\n",
      "# y = 1 * x_0 + 2 * x_1 + 3\n",
      "y = np.dot(X, np.array([1, 2])) + 3\n",
      "reg = LinearRegression().fit(X, y)\n",
      "reg.score(X, y)\n",
      "get_ipython().run_line_magic('history', '-t')\n"
     ]
    }
   ],
   "source": [
    "%history -t"
   ]
  },
  {
   "cell_type": "code",
   "execution_count": 6,
   "metadata": {},
   "outputs": [
    {
     "name": "stdout",
     "output_type": "stream",
     "text": [
      "from sklearn.datasets import load_iris\n",
      "from sklearn.linear_model import LogisticRegression\n",
      "X, y = load_iris(return_X_y=True)\n",
      "clf = LogisticRegression(random_state=0, solver='lbfgs',\n",
      "                         multi_class='multinomial').fit(X, y)\n",
      "clf.predict(X[:2, :])\n",
      "clf.predict_proba(X[:2, :]) \n",
      "clf.score(X, y)\n",
      "get_ipython().run_line_magic('history', '-t')\n",
      "from sklearn.datasets import load_iris\n",
      "from sklearn.linear_model import LogisticRegression\n",
      "X, y = load_iris(return_X_y=True)\n",
      "clf = LogisticRegression(random_state=0, solver='lbfgs',\n",
      "                         multi_class='multinomial').fit(X, y)\n",
      "clf.predict(X[:2, :])\n",
      "clf.predict_proba(X[:2, :]) \n",
      "clf.score(X, y)\n",
      "import numpy as np\n",
      "from sklearn.linear_model import LinearRegression\n",
      "X = np.array([[1, 1], [1, 2], [2, 2], [2, 3]])\n",
      "# y = 1 * x_0 + 2 * x_1 + 3\n",
      "y = np.dot(X, np.array([1, 2])) + 3\n",
      "reg = LinearRegression().fit(X, y)\n",
      "reg.score(X, y)\n",
      "get_ipython().run_line_magic('history', '-t')\n",
      "from sklearn.datasets import load_iris\n",
      "from sklearn.linear_model import LogisticRegression\n",
      "X, y = load_iris(return_X_y=True)\n",
      "clf = LogisticRegression(random_state=0, solver='lbfgs',\n",
      "                         multi_class='multinomial').fit(X, y)\n",
      "clf.predict(X[:2, :])\n",
      "clf.predict_proba(X[:2, :]) \n",
      "clf.score(X, y)\n",
      "get_ipython().run_line_magic('history', '-t')\n",
      "from sklearn.datasets import load_iris\n",
      "from sklearn.linear_model import LogisticRegression\n",
      "X, y = load_iris(return_X_y=True)\n",
      "clf = LogisticRegression(random_state=0, solver='lbfgs',\n",
      "                         multi_class='multinomial').fit(X, y)\n",
      "clf.predict(X[:2, :])\n",
      "clf.predict_proba(X[:2, :]) \n",
      "clf.score(X, y)\n"
     ]
    },
    {
     "name": "stderr",
     "output_type": "stream",
     "text": [
      "/Users/prasert/miniconda3/lib/python3.7/site-packages/sklearn/linear_model/logistic.py:758: ConvergenceWarning: lbfgs failed to converge. Increase the number of iterations.\n",
      "  \"of iterations.\", ConvergenceWarning)\n",
      "/Users/prasert/miniconda3/lib/python3.7/site-packages/sklearn/linear_model/logistic.py:758: ConvergenceWarning: lbfgs failed to converge. Increase the number of iterations.\n",
      "  \"of iterations.\", ConvergenceWarning)\n"
     ]
    },
    {
     "data": {
      "text/plain": [
       "0.9733333333333334"
      ]
     },
     "execution_count": 6,
     "metadata": {},
     "output_type": "execute_result"
    }
   ],
   "source": [
    "from sklearn.datasets import load_iris\n",
    "from sklearn.linear_model import LogisticRegression\n",
    "X, y = load_iris(return_X_y=True)\n",
    "clf = LogisticRegression(random_state=0, solver='lbfgs',\n",
    "                         multi_class='multinomial').fit(X, y)\n",
    "clf.predict(X[:2, :])\n",
    "clf.predict_proba(X[:2, :]) \n",
    "clf.score(X, y)\n",
    "get_ipython().run_line_magic('history', '-t')\n",
    "from sklearn.datasets import load_iris\n",
    "from sklearn.linear_model import LogisticRegression\n",
    "X, y = load_iris(return_X_y=True)\n",
    "clf = LogisticRegression(random_state=0, solver='lbfgs',\n",
    "                         multi_class='multinomial').fit(X, y)\n",
    "clf.predict(X[:2, :])\n",
    "clf.predict_proba(X[:2, :]) \n",
    "clf.score(X, y)"
   ]
  },
  {
   "cell_type": "code",
   "execution_count": 7,
   "metadata": {},
   "outputs": [
    {
     "data": {
      "text/plain": [
       "1.0"
      ]
     },
     "execution_count": 7,
     "metadata": {},
     "output_type": "execute_result"
    }
   ],
   "source": [
    "import numpy as np\n",
    "from sklearn.linear_model import LinearRegression\n",
    "X = np.array([[1, 1], [1, 2], [2, 2], [2, 3]])\n",
    "# y = 1 * x_0 + 2 * x_1 + 3\n",
    "y = np.dot(X, np.array([1, 2])) + 3\n",
    "reg = LinearRegression().fit(X, y)\n",
    "reg.score(X, y)"
   ]
  },
  {
   "cell_type": "code",
   "execution_count": null,
   "metadata": {},
   "outputs": [],
   "source": []
  }
 ],
 "metadata": {
  "kernelspec": {
   "display_name": "Python 3",
   "language": "python",
   "name": "python3"
  },
  "language_info": {
   "codemirror_mode": {
    "name": "ipython",
    "version": 3
   },
   "file_extension": ".py",
   "mimetype": "text/x-python",
   "name": "python",
   "nbconvert_exporter": "python",
   "pygments_lexer": "ipython3",
   "version": "3.7.2"
  }
 },
 "nbformat": 4,
 "nbformat_minor": 2
}
