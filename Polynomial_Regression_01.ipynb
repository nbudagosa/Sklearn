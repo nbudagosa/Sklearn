{
  "nbformat": 4,
  "nbformat_minor": 0,
  "metadata": {
    "colab": {
      "name": "Polynomial_Regression_01.ipynb",
      "provenance": []
    },
    "kernelspec": {
      "name": "python3",
      "display_name": "Python 3"
    }
  },
  "cells": [
    {
      "cell_type": "markdown",
      "metadata": {
        "id": "w18VoqIoBYRY"
      },
      "source": [
        "---\n",
        "\n",
        "# ทดลองทำ Polynomial Regression #1\n",
        "\n",
        "---"
      ]
    },
    {
      "cell_type": "markdown",
      "metadata": {
        "id": "m0--PXvg-oJb"
      },
      "source": [
        "สร้างข้อมูล / นำเข้าข้อมูล .. ขนาดพื้นที่ x และ ราคา (พันบาท) y\n"
      ]
    },
    {
      "cell_type": "code",
      "metadata": {
        "id": "ClKwgF4Sw1nx"
      },
      "source": [
        "import numpy as np\n",
        "\n",
        "x = np.array ([35,47,42,31,34,60,42,52,52,47,50,38,44,50,47,48,38,53,48,59])\n",
        "y = np.array ([2931,3975,3930,1856,3017,4178,3891,3885,3988,4024,3921,3560,3878,3791,3918,3939,3565,3970,3905,4130])"
      ],
      "execution_count": null,
      "outputs": []
    },
    {
      "cell_type": "code",
      "metadata": {
        "id": "H-pIvpsnBFS8"
      },
      "source": [
        "x = x.reshape(-1, 1)\n",
        "y = y.reshape(-1, 1)"
      ],
      "execution_count": null,
      "outputs": []
    },
    {
      "cell_type": "markdown",
      "metadata": {
        "id": "tKZIktpDB5gU"
      },
      "source": [
        "เรียกใช้ Library Matplotlib .. เพื่อแสดงผลข้อมูล"
      ]
    },
    {
      "cell_type": "code",
      "metadata": {
        "id": "F_1TzwHCBvnN"
      },
      "source": [
        "import matplotlib.pyplot as plt"
      ],
      "execution_count": null,
      "outputs": []
    },
    {
      "cell_type": "code",
      "metadata": {
        "id": "12ICXnaFByO-",
        "colab": {
          "base_uri": "https://localhost:8080/",
          "height": 265
        },
        "outputId": "8776ea98-9b21-43e1-bbcb-2dae804f9edd"
      },
      "source": [
        "plt.scatter(x, y, s = 80, marker='+')\n",
        "plt.show()"
      ],
      "execution_count": null,
      "outputs": [
        {
          "output_type": "display_data",
          "data": {
            "image/png": "[encoded data removed]",
            "text/plain": [
              "<Figure size 432x288 with 1 Axes>"
            ]
          },
          "metadata": {
            "tags": [],
            "needs_background": "light"
          }
        }
      ]
    },
    {
      "cell_type": "markdown",
      "metadata": {
        "id": "QHLg4_O9CMPr"
      },
      "source": [
        "จาก Library sklearn (หรือ scikit learn) เราจะเรียกใช้ Polynomial Features และ Linear Regression"
      ]
    },
    {
      "cell_type": "code",
      "metadata": {
        "id": "3MUAMrrYB2VZ"
      },
      "source": [
        "from sklearn.preprocessing import PolynomialFeatures\n",
        "from sklearn.linear_model import LinearRegression"
      ],
      "execution_count": null,
      "outputs": []
    },
    {
      "cell_type": "markdown",
      "metadata": {
        "id": "CfCUFLHoKU_7"
      },
      "source": [
        "ทำการสร้าง Polynomial Features .. กำหนด Degree ของ Polynomial ในที่นี้ เท่ากับ 3"
      ]
    },
    {
      "cell_type": "code",
      "metadata": {
        "id": "QWL9KFeHCDaM"
      },
      "source": [
        "poly_feature = PolynomialFeatures(degree=3) \n",
        "x_poly = poly_feature.fit_transform(x)"
      ],
      "execution_count": null,
      "outputs": []
    },
    {
      "cell_type": "code",
      "metadata": {
        "colab": {
          "base_uri": "https://localhost:8080/"
        },
        "id": "wSA9mCH3MoQs",
        "outputId": "0514709a-b993-4572-a696-93ad4b73a299"
      },
      "source": [
        "x_poly"
      ],
      "execution_count": null,
      "outputs": [
        {
          "output_type": "execute_result",
          "data": {
            "text/plain": [
              "array([[1.00000e+00, 3.50000e+01, 1.22500e+03, 4.28750e+04],\n",
              "       [1.00000e+00, 4.70000e+01, 2.20900e+03, 1.03823e+05],\n",
              "       [1.00000e+00, 4.20000e+01, 1.76400e+03, 7.40880e+04],\n",
              "       [1.00000e+00, 3.10000e+01, 9.61000e+02, 2.97910e+04],\n",
              "       [1.00000e+00, 3.40000e+01, 1.15600e+03, 3.93040e+04],\n",
              "       [1.00000e+00, 6.00000e+01, 3.60000e+03, 2.16000e+05],\n",
              "       [1.00000e+00, 4.20000e+01, 1.76400e+03, 7.40880e+04],\n",
              "       [1.00000e+00, 5.20000e+01, 2.70400e+03, 1.40608e+05],\n",
              "       [1.00000e+00, 5.20000e+01, 2.70400e+03, 1.40608e+05],\n",
              "       [1.00000e+00, 4.70000e+01, 2.20900e+03, 1.03823e+05],\n",
              "       [1.00000e+00, 5.00000e+01, 2.50000e+03, 1.25000e+05],\n",
              "       [1.00000e+00, 3.80000e+01, 1.44400e+03, 5.48720e+04],\n",
              "       [1.00000e+00, 4.40000e+01, 1.93600e+03, 8.51840e+04],\n",
              "       [1.00000e+00, 5.00000e+01, 2.50000e+03, 1.25000e+05],\n",
              "       [1.00000e+00, 4.70000e+01, 2.20900e+03, 1.03823e+05],\n",
              "       [1.00000e+00, 4.80000e+01, 2.30400e+03, 1.10592e+05],\n",
              "       [1.00000e+00, 3.80000e+01, 1.44400e+03, 5.48720e+04],\n",
              "       [1.00000e+00, 5.30000e+01, 2.80900e+03, 1.48877e+05],\n",
              "       [1.00000e+00, 4.80000e+01, 2.30400e+03, 1.10592e+05],\n",
              "       [1.00000e+00, 5.90000e+01, 3.48100e+03, 2.05379e+05]])"
            ]
          },
          "metadata": {
            "tags": []
          },
          "execution_count": 7
        }
      ]
    },
    {
      "cell_type": "code",
      "metadata": {
        "id": "S_I3JAUH_Z54"
      },
      "source": [
        "poly_model = LinearRegression()"
      ],
      "execution_count": null,
      "outputs": []
    },
    {
      "cell_type": "markdown",
      "metadata": {
        "id": "K-bhJwEoBaSw"
      },
      "source": [
        "ทำการ Train model ด้วยข้อมูล x_poly, y"
      ]
    },
    {
      "cell_type": "code",
      "metadata": {
        "id": "d7CCx3mlBdLG"
      },
      "source": [
        "poly_model = poly_model.fit(x_poly, y)"
      ],
      "execution_count": null,
      "outputs": []
    },
    {
      "cell_type": "markdown",
      "metadata": {
        "id": "LWbBGZKW_gbi"
      },
      "source": [
        "ถึงตอนนี้ .. เราจะได้ Polynomial Model แล้ว (เส้นสีแดง ในรูป)"
      ]
    },
    {
      "cell_type": "markdown",
      "metadata": {
        "id": "ufzIjWjNAWiD"
      },
      "source": [
        "![Poly_01.png](data:image/png;base64,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)"
      ]
    },
    {
      "cell_type": "code",
      "metadata": {
        "id": "vXzl5wIDAsod"
      },
      "source": [
        "y_pred_poly = poly_model.predict(x_poly)"
      ],
      "execution_count": null,
      "outputs": []
    },
    {
      "cell_type": "markdown",
      "metadata": {
        "id": "E-_1DbG3Azeh"
      },
      "source": [
        "กรณีต้องการแสดงผล Polynomial Regression Model (เส้นสีแดง) เปรียบเทียบกับข้อมูลจริง (สีน้ำเงิน)"
      ]
    },
    {
      "cell_type": "code",
      "metadata": {
        "id": "rjCX98OfArOR",
        "colab": {
          "base_uri": "https://localhost:8080/",
          "height": 265
        },
        "outputId": "65d6ad87-035b-4377-c348-bb7cd9f438a6"
      },
      "source": [
        "# Plot ข้อมูล (x,y) \n",
        "plt.scatter(x,y, s = 80, marker='+', label='Data')\n",
        "\n",
        "# เตรียมข้อมูล และ Plot Polynomial Regression Model (x,y_pred_poly) \n",
        "sorted_zip = sorted(zip(x, y_pred_poly))\n",
        "x_plot, y_pred_plot = zip(*sorted_zip)\n",
        "\n",
        "plt.plot(x_plot, y_pred_plot, linewidth=4, color='r', label='Polynomial')\n",
        "\n",
        "plt.rc('xtick', labelsize=18)    # fontsize of the tick labels\n",
        "plt.rc('ytick', labelsize=18)    # fontsize of the tick labels\n",
        "# plt.axis([27, 62, 1500, 4600])\n",
        "plt.legend(loc = 'lower right')\n",
        "plt.show()"
      ],
      "execution_count": null,
      "outputs": [
        {
          "output_type": "display_data",
          "data": {
            "image/png": "[encoded data removed]",
            "text/plain": [
              "<Figure size 432x288 with 1 Axes>"
            ]
          },
          "metadata": {
            "tags": [],
            "needs_background": "light"
          }
        }
      ]
    },
    {
      "cell_type": "markdown",
      "metadata": {
        "id": "N4ArTfGgDSok"
      },
      "source": [
        "วัดประสิทธิภาพของ Model"
      ]
    },
    {
      "cell_type": "code",
      "metadata": {
        "id": "bEWZSXPDDX-2",
        "colab": {
          "base_uri": "https://localhost:8080/"
        },
        "outputId": "2536330a-7be0-4818-ecc5-5f147199e513"
      },
      "source": [
        "from sklearn.metrics import mean_squared_error, r2_score\n",
        "\n",
        "rmse_poly = np.sqrt(mean_squared_error(y, y_pred_poly))\n",
        "print ('RMSE (Root Mean Squared Error) = ', rmse_poly)\n",
        "\n",
        "r2_poly = r2_score(y, y_pred_poly)\n",
        "print ('R2 = ', r2_poly)"
      ],
      "execution_count": null,
      "outputs": [
        {
          "output_type": "stream",
          "text": [
            "RMSE (Root Mean Squared Error) =  72.25844871290107\n",
            "R2 =  0.9813583741043241\n"
          ],
          "name": "stdout"
        }
      ]
    },
    {
      "cell_type": "markdown",
      "metadata": {
        "id": "uqDioBZOK5Oa"
      },
      "source": [
        "ทำนายราคาคอนโด พื้นที่ 63 ตร.ม.\n",
        "*   ใช้ Polynomial Feature ทำการ Transform .. poly_feature.fit_transform()\n",
        "*   และ เรียกใช้ poly_model.predict()"
      ]
    },
    {
      "cell_type": "markdown",
      "metadata": {
        "id": "CkPe9e7KKnSp"
      },
      "source": [
        "\n",
        "\n",
        "\n",
        "\n",
        "---\n",
        "\n",
        "\n",
        "จบแล้ว\n",
        "\n",
        "---\n",
        "\n"
      ]
    }
  ]
}